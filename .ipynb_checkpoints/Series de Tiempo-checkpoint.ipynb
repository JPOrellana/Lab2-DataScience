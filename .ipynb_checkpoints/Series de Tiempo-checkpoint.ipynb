{
 "cells": [
  {
   "cell_type": "markdown",
   "id": "717cb892-651e-4b0d-8640-6cf3d171bb8a",
   "metadata": {},
   "source": [
    "### Laboratorio 2 - Series de Tiempo\n",
    "- - -\n",
    "- Diego Alberto Leiva 21750\n",
    "- José Pablo Orellana 21970\n",
    "- - -"
   ]
  },
  {
   "cell_type": "markdown",
   "id": "0170e6b8-22b6-4bfa-a3cd-2eeb9c3d7f5a",
   "metadata": {},
   "source": [
    "#### Librerías"
   ]
  },
  {
   "cell_type": "code",
   "execution_count": 1,
   "id": "4c9d1757-fad1-4151-ab99-5d2219183cad",
   "metadata": {},
   "outputs": [],
   "source": [
    "import pandas as pd\n",
    "import numpy as np\n",
    "import matplotlib.pyplot as plt\n",
    "import seaborn as sns\n",
    "from datetime import datetime"
   ]
  },
  {
   "cell_type": "markdown",
   "id": "6a8bb5ff-53a0-42d0-b955-2193f217b607",
   "metadata": {},
   "source": [
    "#### Cargar la data"
   ]
  },
  {
   "cell_type": "code",
   "execution_count": 23,
   "id": "138f670a-9172-4f5e-8e96-f138550231ac",
   "metadata": {},
   "outputs": [],
   "source": [
    "data = pd.read_csv('importacion.csv', skiprows=6, usecols=range(25))\n",
    "data1 = pd.read_csv('precios.csv')"
   ]
  },
  {
   "cell_type": "markdown",
   "id": "ef0471aa-2284-4830-af47-a8fcc3bedf0c",
   "metadata": {},
   "source": [
    "#### Visualizar estructura e información general del dataset"
   ]
  },
  {
   "cell_type": "code",
   "execution_count": 24,
   "id": "77410ad9-19d3-4d1a-8528-5c11604f10c6",
   "metadata": {},
   "outputs": [
    {
     "name": "stdout",
     "output_type": "stream",
     "text": [
      "<class 'pandas.core.frame.DataFrame'>\n",
      "RangeIndex: 284 entries, 0 to 283\n",
      "Data columns (total 25 columns):\n",
      " #   Column                    Non-Null Count  Dtype  \n",
      "---  ------                    --------------  -----  \n",
      " 0   Fecha                     283 non-null    object \n",
      " 1   Aceites lubricantes       281 non-null    object \n",
      " 2   Asfalto                   281 non-null    object \n",
      " 3   Bunker                    281 non-null    object \n",
      " 4   Ceras                     280 non-null    float64\n",
      " 5   Combustible turbo jet     281 non-null    object \n",
      " 6   Diesel bajo azufre        281 non-null    object \n",
      " 7   Diesel ultra bajo azufre  281 non-null    object \n",
      " 8   Gas licuado de petróleo   281 non-null    object \n",
      " 9   Gasolina de aviación      281 non-null    object \n",
      " 10  Gasolina regular          281 non-null    object \n",
      " 11  Gasolina superior         281 non-null    object \n",
      " 12  Grasas lubricantes        281 non-null    object \n",
      " 13  Kerosina                  281 non-null    object \n",
      " 14  Mezclas oleosas           281 non-null    object \n",
      " 15  Naftas                    281 non-null    float64\n",
      " 16  Petcoke                   281 non-null    object \n",
      " 17  Petróleo crudo            281 non-null    object \n",
      " 18  Solventes                 281 non-null    object \n",
      " 19  Butano                    281 non-null    float64\n",
      " 20  Diesel alto azufre        281 non-null    object \n",
      " 21  MTBE                      281 non-null    object \n",
      " 22  Orimulsión                281 non-null    object \n",
      " 23  Petróleo reconstituido    281 non-null    object \n",
      " 24  Total importación         281 non-null    object \n",
      "dtypes: float64(3), object(22)\n",
      "memory usage: 55.6+ KB\n"
     ]
    }
   ],
   "source": [
    "data.info()"
   ]
  },
  {
   "cell_type": "code",
   "execution_count": 26,
   "id": "aaa3f283-d519-44ac-b712-a6160891fe69",
   "metadata": {},
   "outputs": [
    {
     "name": "stdout",
     "output_type": "stream",
     "text": [
      "El dataset de importación contiente: 284 observaciones y 25 variables\n"
     ]
    }
   ],
   "source": [
    "print(f\"El dataset de importación contiente: {data.shape[0]} observaciones y {data.shape[1]} variables\")"
   ]
  },
  {
   "cell_type": "code",
   "execution_count": 28,
   "id": "bac24e53-e419-4c42-a54a-39cf8d3c3ea0",
   "metadata": {},
   "outputs": [
    {
     "data": {
      "text/html": [
       "<div>\n",
       "<style scoped>\n",
       "    .dataframe tbody tr th:only-of-type {\n",
       "        vertical-align: middle;\n",
       "    }\n",
       "\n",
       "    .dataframe tbody tr th {\n",
       "        vertical-align: top;\n",
       "    }\n",
       "\n",
       "    .dataframe thead th {\n",
       "        text-align: right;\n",
       "    }\n",
       "</style>\n",
       "<table border=\"1\" class=\"dataframe\">\n",
       "  <thead>\n",
       "    <tr style=\"text-align: right;\">\n",
       "      <th></th>\n",
       "      <th>Fecha</th>\n",
       "      <th>Aceites lubricantes</th>\n",
       "      <th>Asfalto</th>\n",
       "      <th>Bunker</th>\n",
       "      <th>Ceras</th>\n",
       "      <th>Combustible turbo jet</th>\n",
       "      <th>Diesel bajo azufre</th>\n",
       "      <th>Diesel ultra bajo azufre</th>\n",
       "      <th>Gas licuado de petróleo</th>\n",
       "      <th>Gasolina de aviación</th>\n",
       "      <th>...</th>\n",
       "      <th>Naftas</th>\n",
       "      <th>Petcoke</th>\n",
       "      <th>Petróleo crudo</th>\n",
       "      <th>Solventes</th>\n",
       "      <th>Butano</th>\n",
       "      <th>Diesel alto azufre</th>\n",
       "      <th>MTBE</th>\n",
       "      <th>Orimulsión</th>\n",
       "      <th>Petróleo reconstituido</th>\n",
       "      <th>Total importación</th>\n",
       "    </tr>\n",
       "  </thead>\n",
       "  <tbody>\n",
       "    <tr>\n",
       "      <th>0</th>\n",
       "      <td>Jan/2001</td>\n",
       "      <td>0.00</td>\n",
       "      <td>27,748.99</td>\n",
       "      <td>214,581.84</td>\n",
       "      <td>0.0</td>\n",
       "      <td>0.00</td>\n",
       "      <td>0.00</td>\n",
       "      <td>0.00</td>\n",
       "      <td>194,065.74</td>\n",
       "      <td>820.00</td>\n",
       "      <td>...</td>\n",
       "      <td>0.0</td>\n",
       "      <td>0.00</td>\n",
       "      <td>0.00</td>\n",
       "      <td>0.00</td>\n",
       "      <td>0.0</td>\n",
       "      <td>566,101.99</td>\n",
       "      <td>8,402.00</td>\n",
       "      <td>0.00</td>\n",
       "      <td>715,344.00</td>\n",
       "      <td>2,312,639.05</td>\n",
       "    </tr>\n",
       "    <tr>\n",
       "      <th>1</th>\n",
       "      <td>Feb/2001</td>\n",
       "      <td>0.00</td>\n",
       "      <td>7,503.57</td>\n",
       "      <td>294,609.00</td>\n",
       "      <td>0.0</td>\n",
       "      <td>0.00</td>\n",
       "      <td>0.00</td>\n",
       "      <td>0.00</td>\n",
       "      <td>170,703.38</td>\n",
       "      <td>3,054.00</td>\n",
       "      <td>...</td>\n",
       "      <td>0.0</td>\n",
       "      <td>0.00</td>\n",
       "      <td>0.00</td>\n",
       "      <td>0.00</td>\n",
       "      <td>0.0</td>\n",
       "      <td>489,525.80</td>\n",
       "      <td>0.00</td>\n",
       "      <td>0.00</td>\n",
       "      <td>370,166.00</td>\n",
       "      <td>1,769,208.76</td>\n",
       "    </tr>\n",
       "    <tr>\n",
       "      <th>2</th>\n",
       "      <td>Mar/2001</td>\n",
       "      <td>0.00</td>\n",
       "      <td>26,304.32</td>\n",
       "      <td>315,263.80</td>\n",
       "      <td>0.0</td>\n",
       "      <td>0.00</td>\n",
       "      <td>0.00</td>\n",
       "      <td>0.00</td>\n",
       "      <td>161,837.37</td>\n",
       "      <td>677.00</td>\n",
       "      <td>...</td>\n",
       "      <td>0.0</td>\n",
       "      <td>0.00</td>\n",
       "      <td>0.00</td>\n",
       "      <td>0.00</td>\n",
       "      <td>0.0</td>\n",
       "      <td>575,559.68</td>\n",
       "      <td>0.00</td>\n",
       "      <td>0.00</td>\n",
       "      <td>360,530.00</td>\n",
       "      <td>1,945,770.26</td>\n",
       "    </tr>\n",
       "    <tr>\n",
       "      <th>3</th>\n",
       "      <td>Apr/2001</td>\n",
       "      <td>0.00</td>\n",
       "      <td>7,885.89</td>\n",
       "      <td>205,653.00</td>\n",
       "      <td>0.0</td>\n",
       "      <td>0.00</td>\n",
       "      <td>0.00</td>\n",
       "      <td>0.00</td>\n",
       "      <td>163,048.64</td>\n",
       "      <td>3,399.00</td>\n",
       "      <td>...</td>\n",
       "      <td>0.0</td>\n",
       "      <td>0.00</td>\n",
       "      <td>0.00</td>\n",
       "      <td>0.00</td>\n",
       "      <td>0.0</td>\n",
       "      <td>437,745.42</td>\n",
       "      <td>8,184.00</td>\n",
       "      <td>0.00</td>\n",
       "      <td>359,527.00</td>\n",
       "      <td>1,623,637.76</td>\n",
       "    </tr>\n",
       "    <tr>\n",
       "      <th>4</th>\n",
       "      <td>May/2001</td>\n",
       "      <td>0.00</td>\n",
       "      <td>8,443.16</td>\n",
       "      <td>278,371.30</td>\n",
       "      <td>0.0</td>\n",
       "      <td>0.00</td>\n",
       "      <td>0.00</td>\n",
       "      <td>0.00</td>\n",
       "      <td>171,518.86</td>\n",
       "      <td>585.00</td>\n",
       "      <td>...</td>\n",
       "      <td>0.0</td>\n",
       "      <td>0.00</td>\n",
       "      <td>0.00</td>\n",
       "      <td>0.00</td>\n",
       "      <td>0.0</td>\n",
       "      <td>552,609.13</td>\n",
       "      <td>12,680.00</td>\n",
       "      <td>0.00</td>\n",
       "      <td>723,346.00</td>\n",
       "      <td>2,262,726.64</td>\n",
       "    </tr>\n",
       "  </tbody>\n",
       "</table>\n",
       "<p>5 rows × 25 columns</p>\n",
       "</div>"
      ],
      "text/plain": [
       "      Fecha Aceites lubricantes   Asfalto       Bunker  Ceras  \\\n",
       "0  Jan/2001                0.00  27,748.99  214,581.84    0.0   \n",
       "1  Feb/2001                0.00   7,503.57  294,609.00    0.0   \n",
       "2  Mar/2001                0.00  26,304.32  315,263.80    0.0   \n",
       "3  Apr/2001                0.00   7,885.89  205,653.00    0.0   \n",
       "4  May/2001                0.00   8,443.16  278,371.30    0.0   \n",
       "\n",
       "  Combustible turbo jet Diesel bajo azufre Diesel ultra bajo azufre  \\\n",
       "0                  0.00               0.00                     0.00   \n",
       "1                  0.00               0.00                     0.00   \n",
       "2                  0.00               0.00                     0.00   \n",
       "3                  0.00               0.00                     0.00   \n",
       "4                  0.00               0.00                     0.00   \n",
       "\n",
       "  Gas licuado de petróleo Gasolina de aviación  ... Naftas Petcoke  \\\n",
       "0              194,065.74               820.00  ...    0.0    0.00   \n",
       "1              170,703.38             3,054.00  ...    0.0    0.00   \n",
       "2              161,837.37               677.00  ...    0.0    0.00   \n",
       "3              163,048.64             3,399.00  ...    0.0    0.00   \n",
       "4              171,518.86               585.00  ...    0.0    0.00   \n",
       "\n",
       "  Petróleo crudo Solventes Butano  Diesel alto azufre       MTBE Orimulsión  \\\n",
       "0           0.00      0.00    0.0          566,101.99   8,402.00       0.00   \n",
       "1           0.00      0.00    0.0          489,525.80       0.00       0.00   \n",
       "2           0.00      0.00    0.0          575,559.68       0.00       0.00   \n",
       "3           0.00      0.00    0.0          437,745.42   8,184.00       0.00   \n",
       "4           0.00      0.00    0.0          552,609.13  12,680.00       0.00   \n",
       "\n",
       "  Petróleo reconstituido  Total importación  \n",
       "0             715,344.00       2,312,639.05  \n",
       "1             370,166.00       1,769,208.76  \n",
       "2             360,530.00       1,945,770.26  \n",
       "3             359,527.00       1,623,637.76  \n",
       "4             723,346.00       2,262,726.64  \n",
       "\n",
       "[5 rows x 25 columns]"
      ]
     },
     "execution_count": 28,
     "metadata": {},
     "output_type": "execute_result"
    }
   ],
   "source": [
    "data.head()"
   ]
  },
  {
   "cell_type": "markdown",
   "id": "a85cff17-925b-43e3-8750-68532a11d83e",
   "metadata": {},
   "source": [
    "**Variables identificadas**\n",
    "- Fecha: Fecha de Importación\n",
    "\n",
    "**Precios**\n",
    "- Aceites Lubricantes\n",
    "- Asfalto\n",
    "- Bunker\n",
    "- Ceras\n",
    "- Combustible turbo jet\n",
    "- Diesel bajo azufre\n",
    "- Diesel ultra bajo azufre\n",
    "- Gas licuado de petróleo\n",
    "- Gasolina de aviación\n",
    "- Gasolina regular\n",
    "- Gasolina superior\n",
    "- Grasas lubricantes\n",
    "- Kerosina\n",
    "- Mezclas oleosas\n",
    "- Naftas\n",
    "- Petcoke\n",
    "- Petróleo crudo\t\n",
    "- Solventes\n",
    "- Butano\n",
    "- Diesel alto azufre\t\n",
    "- MTBE\n",
    "- Orimulsión\n",
    "- Petróleo reconstituido\t\n",
    "- Total importación: Suma total de precios"
   ]
  },
  {
   "cell_type": "markdown",
   "id": "22a9924a-408a-4170-babe-2a7094949885",
   "metadata": {},
   "source": [
    "----\n",
    "### Preprocesamiento y Limpieza de datos"
   ]
  },
  {
   "cell_type": "markdown",
   "id": "f33a9946-6504-48ab-9843-c653667f17f5",
   "metadata": {},
   "source": [
    "#### Verificación y manejo de valores Nulos o faltantes"
   ]
  },
  {
   "cell_type": "markdown",
   "id": "12bbdbd2-4535-4b9d-a550-ed52e0522d43",
   "metadata": {},
   "source": [
    "##### Visualizar la data faltante"
   ]
  },
  {
   "cell_type": "code",
   "execution_count": null,
   "id": "f401dbf7-5e24-43d1-b477-9f9bc3f2bb61",
   "metadata": {},
   "outputs": [],
   "source": []
  }
 ],
 "metadata": {
  "kernelspec": {
   "display_name": "Python 3 (ipykernel)",
   "language": "python",
   "name": "python3"
  },
  "language_info": {
   "codemirror_mode": {
    "name": "ipython",
    "version": 3
   },
   "file_extension": ".py",
   "mimetype": "text/x-python",
   "name": "python",
   "nbconvert_exporter": "python",
   "pygments_lexer": "ipython3",
   "version": "3.12.1"
  }
 },
 "nbformat": 4,
 "nbformat_minor": 5
}
